{
 "cells": [
  {
   "cell_type": "markdown",
   "id": "648ab172",
   "metadata": {},
   "source": [
    "Objectives :\n",
    "1-Data definition // pavly \n",
    "2-Data encoding // taha\n",
    "3-Scale data // noura \n",
    "4-Deal with outliers // samir \n",
    "5-Deal with messing data //salama"
   ]
  }
 ],
 "metadata": {
  "kernelspec": {
   "display_name": "Python 3 (ipykernel)",
   "language": "python",
   "name": "python3"
  },
  "language_info": {
   "codemirror_mode": {
    "name": "ipython",
    "version": 3
   },
   "file_extension": ".py",
   "mimetype": "text/x-python",
   "name": "python",
   "nbconvert_exporter": "python",
   "pygments_lexer": "ipython3",
   "version": "3.9.7"
  }
 },
 "nbformat": 4,
 "nbformat_minor": 5
}
