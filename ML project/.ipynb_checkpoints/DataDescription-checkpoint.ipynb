{
 "cells": [
  {
   "cell_type": "markdown",
   "id": "996aff38",
   "metadata": {},
   "source": [
    "# Data Preprocessing part1(Data Description) \n",
    "\n"
   ]
  },
  {
   "cell_type": "code",
   "execution_count": 23,
   "id": "c7ed1747",
   "metadata": {
    "ExecuteTime": {
     "end_time": "2022-04-02T18:36:27.482813Z",
     "start_time": "2022-04-02T18:36:27.467855Z"
    }
   },
   "outputs": [],
   "source": [
    "#importing libraries\n",
    "import numpy as np\n",
    "import pandas as pd\n",
    "import matplotlib.pyplot as plt"
   ]
  },
  {
   "cell_type": "code",
   "execution_count": 241,
   "id": "2ec5c678",
   "metadata": {
    "ExecuteTime": {
     "end_time": "2022-04-02T19:57:16.733278Z",
     "start_time": "2022-04-02T19:57:16.579443Z"
    },
    "scrolled": false
   },
   "outputs": [
    {
     "data": {
      "text/html": [
       "<div>\n",
       "<style scoped>\n",
       "    .dataframe tbody tr th:only-of-type {\n",
       "        vertical-align: middle;\n",
       "    }\n",
       "\n",
       "    .dataframe tbody tr th {\n",
       "        vertical-align: top;\n",
       "    }\n",
       "\n",
       "    .dataframe thead th {\n",
       "        text-align: right;\n",
       "    }\n",
       "</style>\n",
       "<table border=\"1\" class=\"dataframe\">\n",
       "  <thead>\n",
       "    <tr style=\"text-align: right;\">\n",
       "      <th></th>\n",
       "      <th>Timestamp</th>\n",
       "      <th>How old are you?</th>\n",
       "      <th>Industry</th>\n",
       "      <th>Job title</th>\n",
       "      <th>Additional context on job title</th>\n",
       "      <th>Annual salary</th>\n",
       "      <th>Other monetary comp</th>\n",
       "      <th>Currency</th>\n",
       "      <th>Currency - other</th>\n",
       "      <th>Additional context on income</th>\n",
       "      <th>Country</th>\n",
       "      <th>State</th>\n",
       "      <th>City</th>\n",
       "      <th>Overall years of professional experience</th>\n",
       "      <th>Years of experience in field</th>\n",
       "      <th>Highest level of education completed</th>\n",
       "      <th>Gender</th>\n",
       "      <th>Race</th>\n",
       "    </tr>\n",
       "  </thead>\n",
       "  <tbody>\n",
       "    <tr>\n",
       "      <th>0</th>\n",
       "      <td>4/27/2021 11:02:10</td>\n",
       "      <td>25-34</td>\n",
       "      <td>Education (Higher Education)</td>\n",
       "      <td>Research and Instruction Librarian</td>\n",
       "      <td>NaN</td>\n",
       "      <td>55,000</td>\n",
       "      <td>0.0</td>\n",
       "      <td>USD</td>\n",
       "      <td>NaN</td>\n",
       "      <td>NaN</td>\n",
       "      <td>US</td>\n",
       "      <td>Massachusetts</td>\n",
       "      <td>Boston</td>\n",
       "      <td>5-7 years</td>\n",
       "      <td>5-7 years</td>\n",
       "      <td>Master's degree</td>\n",
       "      <td>Woman</td>\n",
       "      <td>White</td>\n",
       "    </tr>\n",
       "    <tr>\n",
       "      <th>1</th>\n",
       "      <td>4/27/2021 11:02:22</td>\n",
       "      <td>25-34</td>\n",
       "      <td>Computing or Tech</td>\n",
       "      <td>Change &amp; Internal Communications Manager</td>\n",
       "      <td>NaN</td>\n",
       "      <td>54,600</td>\n",
       "      <td>4000.0</td>\n",
       "      <td>GBP</td>\n",
       "      <td>NaN</td>\n",
       "      <td>NaN</td>\n",
       "      <td>UK</td>\n",
       "      <td>NaN</td>\n",
       "      <td>Cambridge</td>\n",
       "      <td>8 - 10 years</td>\n",
       "      <td>5-7 years</td>\n",
       "      <td>College degree</td>\n",
       "      <td>Non-binary</td>\n",
       "      <td>White</td>\n",
       "    </tr>\n",
       "    <tr>\n",
       "      <th>2</th>\n",
       "      <td>4/27/2021 11:02:38</td>\n",
       "      <td>25-34</td>\n",
       "      <td>Accounting, Banking &amp; Finance</td>\n",
       "      <td>Marketing Specialist</td>\n",
       "      <td>NaN</td>\n",
       "      <td>34,000</td>\n",
       "      <td>0.0</td>\n",
       "      <td>USD</td>\n",
       "      <td>NaN</td>\n",
       "      <td>NaN</td>\n",
       "      <td>US</td>\n",
       "      <td>Tennessee</td>\n",
       "      <td>Chattanooga</td>\n",
       "      <td>2 - 4 years</td>\n",
       "      <td>2 - 4 years</td>\n",
       "      <td>College degree</td>\n",
       "      <td>Woman</td>\n",
       "      <td>White</td>\n",
       "    </tr>\n",
       "    <tr>\n",
       "      <th>3</th>\n",
       "      <td>4/27/2021 11:02:41</td>\n",
       "      <td>25-34</td>\n",
       "      <td>Nonprofits</td>\n",
       "      <td>Program Manager</td>\n",
       "      <td>NaN</td>\n",
       "      <td>62,000</td>\n",
       "      <td>3000.0</td>\n",
       "      <td>USD</td>\n",
       "      <td>NaN</td>\n",
       "      <td>NaN</td>\n",
       "      <td>US</td>\n",
       "      <td>Wisconsin</td>\n",
       "      <td>Milwaukee</td>\n",
       "      <td>8 - 10 years</td>\n",
       "      <td>5-7 years</td>\n",
       "      <td>College degree</td>\n",
       "      <td>Woman</td>\n",
       "      <td>White</td>\n",
       "    </tr>\n",
       "    <tr>\n",
       "      <th>4</th>\n",
       "      <td>4/27/2021 11:02:42</td>\n",
       "      <td>25-34</td>\n",
       "      <td>Accounting, Banking &amp; Finance</td>\n",
       "      <td>Accounting Manager</td>\n",
       "      <td>NaN</td>\n",
       "      <td>60,000</td>\n",
       "      <td>7000.0</td>\n",
       "      <td>USD</td>\n",
       "      <td>NaN</td>\n",
       "      <td>NaN</td>\n",
       "      <td>US</td>\n",
       "      <td>South Carolina</td>\n",
       "      <td>Greenville</td>\n",
       "      <td>8 - 10 years</td>\n",
       "      <td>5-7 years</td>\n",
       "      <td>College degree</td>\n",
       "      <td>Woman</td>\n",
       "      <td>White</td>\n",
       "    </tr>\n",
       "    <tr>\n",
       "      <th>...</th>\n",
       "      <td>...</td>\n",
       "      <td>...</td>\n",
       "      <td>...</td>\n",
       "      <td>...</td>\n",
       "      <td>...</td>\n",
       "      <td>...</td>\n",
       "      <td>...</td>\n",
       "      <td>...</td>\n",
       "      <td>...</td>\n",
       "      <td>...</td>\n",
       "      <td>...</td>\n",
       "      <td>...</td>\n",
       "      <td>...</td>\n",
       "      <td>...</td>\n",
       "      <td>...</td>\n",
       "      <td>...</td>\n",
       "      <td>...</td>\n",
       "      <td>...</td>\n",
       "    </tr>\n",
       "    <tr>\n",
       "      <th>27732</th>\n",
       "      <td>3/28/2022 9:04:42</td>\n",
       "      <td>25-34</td>\n",
       "      <td>Marketing, Advertising &amp; PR</td>\n",
       "      <td>Marketing Automation Analyst</td>\n",
       "      <td>NaN</td>\n",
       "      <td>6500</td>\n",
       "      <td>0.0</td>\n",
       "      <td>EUR</td>\n",
       "      <td>NaN</td>\n",
       "      <td>NaN</td>\n",
       "      <td>Bosnia and Herzegovina</td>\n",
       "      <td>NaN</td>\n",
       "      <td>Banja Luka</td>\n",
       "      <td>5-7 years</td>\n",
       "      <td>1 year or less</td>\n",
       "      <td>College degree</td>\n",
       "      <td>Woman</td>\n",
       "      <td>NaN</td>\n",
       "    </tr>\n",
       "    <tr>\n",
       "      <th>27733</th>\n",
       "      <td>3/29/2022 20:29:47</td>\n",
       "      <td>65 or over</td>\n",
       "      <td>Health care</td>\n",
       "      <td>Compliance officer</td>\n",
       "      <td>NaN</td>\n",
       "      <td>63000</td>\n",
       "      <td>0.0</td>\n",
       "      <td>USD</td>\n",
       "      <td>NaN</td>\n",
       "      <td>NaN</td>\n",
       "      <td>US</td>\n",
       "      <td>Georgia</td>\n",
       "      <td>Columbus</td>\n",
       "      <td>31 - 40 years</td>\n",
       "      <td>5-7 years</td>\n",
       "      <td>Master's degree</td>\n",
       "      <td>Man</td>\n",
       "      <td>White</td>\n",
       "    </tr>\n",
       "    <tr>\n",
       "      <th>27734</th>\n",
       "      <td>3/29/2022 21:09:01</td>\n",
       "      <td>35-44</td>\n",
       "      <td>Accounting, Banking &amp; Finance</td>\n",
       "      <td>Certified Scrum Master</td>\n",
       "      <td>NaN</td>\n",
       "      <td>75000</td>\n",
       "      <td>0.0</td>\n",
       "      <td>USD</td>\n",
       "      <td>NaN</td>\n",
       "      <td>NaN</td>\n",
       "      <td>US</td>\n",
       "      <td>Kentucky</td>\n",
       "      <td>Vine Grove</td>\n",
       "      <td>11 - 20 years</td>\n",
       "      <td>1 year or less</td>\n",
       "      <td>College degree</td>\n",
       "      <td>Woman</td>\n",
       "      <td>White</td>\n",
       "    </tr>\n",
       "    <tr>\n",
       "      <th>27735</th>\n",
       "      <td>3/30/2022 20:35:48</td>\n",
       "      <td>18-24</td>\n",
       "      <td>Computing or Tech</td>\n",
       "      <td>Consultant</td>\n",
       "      <td>NaN</td>\n",
       "      <td>87000</td>\n",
       "      <td>0.0</td>\n",
       "      <td>USD</td>\n",
       "      <td>NaN</td>\n",
       "      <td>NaN</td>\n",
       "      <td>US</td>\n",
       "      <td>Illinois</td>\n",
       "      <td>Atlanta</td>\n",
       "      <td>1 year or less</td>\n",
       "      <td>1 year or less</td>\n",
       "      <td>Master's degree</td>\n",
       "      <td>Man</td>\n",
       "      <td>Asian or Asian American</td>\n",
       "    </tr>\n",
       "    <tr>\n",
       "      <th>27736</th>\n",
       "      <td>3/31/2022 7:52:06</td>\n",
       "      <td>35-44</td>\n",
       "      <td>Health care</td>\n",
       "      <td>Senior Analyst, Pricing Advocate</td>\n",
       "      <td>NaN</td>\n",
       "      <td>47000</td>\n",
       "      <td>0.0</td>\n",
       "      <td>USD</td>\n",
       "      <td>NaN</td>\n",
       "      <td>NaN</td>\n",
       "      <td>US</td>\n",
       "      <td>Kentucky</td>\n",
       "      <td>Elizabethtown</td>\n",
       "      <td>11 - 20 years</td>\n",
       "      <td>5-7 years</td>\n",
       "      <td>College degree</td>\n",
       "      <td>Woman</td>\n",
       "      <td>White</td>\n",
       "    </tr>\n",
       "  </tbody>\n",
       "</table>\n",
       "<p>27737 rows × 18 columns</p>\n",
       "</div>"
      ],
      "text/plain": [
       "                Timestamp How old are you?                       Industry  \\\n",
       "0      4/27/2021 11:02:10            25-34   Education (Higher Education)   \n",
       "1      4/27/2021 11:02:22            25-34              Computing or Tech   \n",
       "2      4/27/2021 11:02:38            25-34  Accounting, Banking & Finance   \n",
       "3      4/27/2021 11:02:41            25-34                     Nonprofits   \n",
       "4      4/27/2021 11:02:42            25-34  Accounting, Banking & Finance   \n",
       "...                   ...              ...                            ...   \n",
       "27732   3/28/2022 9:04:42            25-34    Marketing, Advertising & PR   \n",
       "27733  3/29/2022 20:29:47       65 or over                    Health care   \n",
       "27734  3/29/2022 21:09:01            35-44  Accounting, Banking & Finance   \n",
       "27735  3/30/2022 20:35:48            18-24              Computing or Tech   \n",
       "27736   3/31/2022 7:52:06            35-44                    Health care   \n",
       "\n",
       "                                      Job title  \\\n",
       "0            Research and Instruction Librarian   \n",
       "1      Change & Internal Communications Manager   \n",
       "2                          Marketing Specialist   \n",
       "3                               Program Manager   \n",
       "4                            Accounting Manager   \n",
       "...                                         ...   \n",
       "27732              Marketing Automation Analyst   \n",
       "27733                       Compliance officer    \n",
       "27734                    Certified Scrum Master   \n",
       "27735                                Consultant   \n",
       "27736         Senior Analyst, Pricing Advocate    \n",
       "\n",
       "      Additional context on job title Annual salary  Other monetary comp  \\\n",
       "0                                 NaN        55,000                  0.0   \n",
       "1                                 NaN        54,600               4000.0   \n",
       "2                                 NaN        34,000                  0.0   \n",
       "3                                 NaN        62,000               3000.0   \n",
       "4                                 NaN        60,000               7000.0   \n",
       "...                               ...           ...                  ...   \n",
       "27732                             NaN          6500                  0.0   \n",
       "27733                             NaN         63000                  0.0   \n",
       "27734                             NaN         75000                  0.0   \n",
       "27735                             NaN         87000                  0.0   \n",
       "27736                             NaN         47000                  0.0   \n",
       "\n",
       "      Currency Currency - other Additional context on income  \\\n",
       "0          USD              NaN                          NaN   \n",
       "1          GBP              NaN                          NaN   \n",
       "2          USD              NaN                          NaN   \n",
       "3          USD              NaN                          NaN   \n",
       "4          USD              NaN                          NaN   \n",
       "...        ...              ...                          ...   \n",
       "27732      EUR              NaN                          NaN   \n",
       "27733      USD              NaN                          NaN   \n",
       "27734      USD              NaN                          NaN   \n",
       "27735      USD              NaN                          NaN   \n",
       "27736      USD              NaN                          NaN   \n",
       "\n",
       "                      Country           State           City  \\\n",
       "0                          US   Massachusetts         Boston   \n",
       "1                          UK             NaN      Cambridge   \n",
       "2                          US       Tennessee    Chattanooga   \n",
       "3                          US       Wisconsin      Milwaukee   \n",
       "4                          US  South Carolina     Greenville   \n",
       "...                       ...             ...            ...   \n",
       "27732  Bosnia and Herzegovina             NaN     Banja Luka   \n",
       "27733                      US         Georgia       Columbus   \n",
       "27734                      US        Kentucky     Vine Grove   \n",
       "27735                      US        Illinois        Atlanta   \n",
       "27736                      US        Kentucky  Elizabethtown   \n",
       "\n",
       "      Overall years of professional experience Years of experience in field  \\\n",
       "0                                    5-7 years                    5-7 years   \n",
       "1                                 8 - 10 years                    5-7 years   \n",
       "2                                  2 - 4 years                  2 - 4 years   \n",
       "3                                 8 - 10 years                    5-7 years   \n",
       "4                                 8 - 10 years                    5-7 years   \n",
       "...                                        ...                          ...   \n",
       "27732                                5-7 years               1 year or less   \n",
       "27733                            31 - 40 years                    5-7 years   \n",
       "27734                            11 - 20 years               1 year or less   \n",
       "27735                           1 year or less               1 year or less   \n",
       "27736                            11 - 20 years                    5-7 years   \n",
       "\n",
       "      Highest level of education completed      Gender  \\\n",
       "0                          Master's degree       Woman   \n",
       "1                           College degree  Non-binary   \n",
       "2                           College degree       Woman   \n",
       "3                           College degree       Woman   \n",
       "4                           College degree       Woman   \n",
       "...                                    ...         ...   \n",
       "27732                       College degree       Woman   \n",
       "27733                      Master's degree         Man   \n",
       "27734                       College degree       Woman   \n",
       "27735                      Master's degree         Man   \n",
       "27736                       College degree       Woman   \n",
       "\n",
       "                          Race  \n",
       "0                        White  \n",
       "1                        White  \n",
       "2                        White  \n",
       "3                        White  \n",
       "4                        White  \n",
       "...                        ...  \n",
       "27732                      NaN  \n",
       "27733                    White  \n",
       "27734                    White  \n",
       "27735  Asian or Asian American  \n",
       "27736                    White  \n",
       "\n",
       "[27737 rows x 18 columns]"
      ]
     },
     "execution_count": 241,
     "metadata": {},
     "output_type": "execute_result"
    }
   ],
   "source": [
    "#loading in the csv file to a pandas dataframe\n",
    "na_values = ['Another option not listed here or prefer not to answer',0,' '] #to remove nan related values\n",
    "# add any values you consider to be null to the array if needed\n",
    "dataset = pd.read_csv(\"Ask_A_Manager_Salary_Survey_2021_Responses_Form_Responses_1.csv\", na_values= na_values)\n",
    "\n",
    "dataset['Other monetary comp'] = dataset['Other monetary comp'].fillna(0) # replace nan with 0 in other monetary comp\n",
    "\n",
    "us = ['us','usa','Us','USA','United States ','United States','united states','U.S.A','U.S.','u.s','U.S','United States','USA '] #List of US spellings\n",
    "dataset[\"Country\"].replace(us, \"US\", inplace = True) # replacing all instances of spellings with US\n",
    "uk = ['uk','united kingdom','United Kingdom','United Kingdom ']\n",
    "dataset[\"Country\"].replace(uk , \"UK\", inplace = True) # replacing all instances of spellings with Uk\n",
    "dataset"
   ]
  },
  {
   "cell_type": "markdown",
   "id": "fab90a4e",
   "metadata": {},
   "source": [
    "# Details of the dataset\n"
   ]
  },
  {
   "cell_type": "code",
   "execution_count": 242,
   "id": "831bb32b",
   "metadata": {
    "ExecuteTime": {
     "end_time": "2022-04-02T19:57:18.754643Z",
     "start_time": "2022-04-02T19:57:18.740680Z"
    },
    "scrolled": true
   },
   "outputs": [
    {
     "name": "stdout",
     "output_type": "stream",
     "text": [
      "(27737, 18)\n",
      "Index(['Timestamp', 'How old are you?', 'Industry', 'Job title',\n",
      "       'Additional context on job title', 'Annual salary',\n",
      "       'Other monetary comp', 'Currency', 'Currency - other',\n",
      "       'Additional context on income', 'Country', 'State', 'City',\n",
      "       'Overall years of professional experience',\n",
      "       'Years of experience in field', 'Highest level of education completed',\n",
      "       'Gender', 'Race'],\n",
      "      dtype='object')\n"
     ]
    },
    {
     "data": {
      "text/plain": [
       "'\\nTime stamp          : dropped\\nHow old are you?    : age, but here it is in ranges so we can encode with numbers\\nIndustry            : the industry in which they work (can be a category)\\nJob title           : name of job they have, string (too specific imo)\\nAdditional context on job title : dropped\\nAnnual salary       : money made in a year, numeric\\nOther monetary comp : bonuses, numeric\\nCurreny             : the currency of the salary, string\\nCurrent-other       : dropped\\nAdditional context on income :dropped\\nCountry             : country in which they work in\\nState               : state in which they work in\\nCity                : city in which they work in\\nOverall years of experinece in field : years in which they work, becareful its in range of years and is string\\nYears of experince in field : like the above but specific to one field\\nHighest level of education : highest degree, written in strings \\nGender              : gender, written in strings\\nRace                : the, written in strings\\n'"
      ]
     },
     "execution_count": 242,
     "metadata": {},
     "output_type": "execute_result"
    }
   ],
   "source": [
    "print(dataset.shape)  #27,737 instances and 18 columns\n",
    "print(dataset.columns)\n",
    "\"\"\"\n",
    "Time stamp          : dropped\n",
    "How old are you?    : age, but here it is in ranges so we can encode with numbers\n",
    "Industry            : the industry in which they work (can be a category)\n",
    "Job title           : name of job they have, string (too specific imo)\n",
    "Additional context on job title : dropped\n",
    "Annual salary       : money made in a year, numeric\n",
    "Other monetary comp : bonuses, numeric\n",
    "Curreny             : the currency of the salary, string\n",
    "Current-other       : dropped\n",
    "Additional context on income :dropped\n",
    "Country             : country in which they work in\n",
    "State               : state in which they work in\n",
    "City                : city in which they work in\n",
    "Overall years of experinece in field : years in which they work, becareful its in range of years and is string\n",
    "Years of experince in field : like the above but specific to one field\n",
    "Highest level of education : highest degree, written in strings \n",
    "Gender              : gender, written in strings\n",
    "Race                : the, written in strings\n",
    "\"\"\"\n",
    "# Most of the attributes written in strings can be encoded into couple of numbers\n",
    "# but becareful not all might work/ need it"
   ]
  },
  {
   "cell_type": "markdown",
   "id": "1d45940e",
   "metadata": {},
   "source": [
    "# check what is null\n"
   ]
  },
  {
   "cell_type": "code",
   "execution_count": 243,
   "id": "782657f7",
   "metadata": {
    "ExecuteTime": {
     "end_time": "2022-04-02T19:57:20.718087Z",
     "start_time": "2022-04-02T19:57:20.669220Z"
    },
    "scrolled": true
   },
   "outputs": [
    {
     "data": {
      "text/plain": [
       "Timestamp                                       0\n",
       "How old are you?                                0\n",
       "Industry                                       70\n",
       "Job title                                       0\n",
       "Additional context on job title             20564\n",
       "Annual salary                                  11\n",
       "Other monetary comp                             0\n",
       "Currency                                        0\n",
       "Currency - other                            27552\n",
       "Additional context on income                24721\n",
       "Country                                         0\n",
       "State                                        4933\n",
       "City                                           81\n",
       "Overall years of professional experience        0\n",
       "Years of experience in field                    0\n",
       "Highest level of education completed          209\n",
       "Gender                                        165\n",
       "Race                                          778\n",
       "dtype: int64"
      ]
     },
     "execution_count": 243,
     "metadata": {},
     "output_type": "execute_result"
    }
   ],
   "source": [
    "dataset.isnull().sum()"
   ]
  },
  {
   "cell_type": "markdown",
   "id": "f36f6068",
   "metadata": {},
   "source": [
    "# Dropping columns that have many missing data/ not important, reason = taha xD\n"
   ]
  },
  {
   "cell_type": "code",
   "execution_count": 244,
   "id": "06561047",
   "metadata": {
    "ExecuteTime": {
     "end_time": "2022-04-02T19:57:22.738866Z",
     "start_time": "2022-04-02T19:57:22.665064Z"
    }
   },
   "outputs": [
    {
     "data": {
      "text/html": [
       "<div>\n",
       "<style scoped>\n",
       "    .dataframe tbody tr th:only-of-type {\n",
       "        vertical-align: middle;\n",
       "    }\n",
       "\n",
       "    .dataframe tbody tr th {\n",
       "        vertical-align: top;\n",
       "    }\n",
       "\n",
       "    .dataframe thead th {\n",
       "        text-align: right;\n",
       "    }\n",
       "</style>\n",
       "<table border=\"1\" class=\"dataframe\">\n",
       "  <thead>\n",
       "    <tr style=\"text-align: right;\">\n",
       "      <th></th>\n",
       "      <th>How old are you?</th>\n",
       "      <th>Industry</th>\n",
       "      <th>Job title</th>\n",
       "      <th>Annual salary</th>\n",
       "      <th>Other monetary comp</th>\n",
       "      <th>Currency</th>\n",
       "      <th>Country</th>\n",
       "      <th>State</th>\n",
       "      <th>City</th>\n",
       "      <th>Overall years of professional experience</th>\n",
       "      <th>Years of experience in field</th>\n",
       "      <th>Highest level of education completed</th>\n",
       "      <th>Gender</th>\n",
       "      <th>Race</th>\n",
       "    </tr>\n",
       "  </thead>\n",
       "  <tbody>\n",
       "    <tr>\n",
       "      <th>0</th>\n",
       "      <td>25-34</td>\n",
       "      <td>Education (Higher Education)</td>\n",
       "      <td>Research and Instruction Librarian</td>\n",
       "      <td>55,000</td>\n",
       "      <td>0.0</td>\n",
       "      <td>USD</td>\n",
       "      <td>US</td>\n",
       "      <td>Massachusetts</td>\n",
       "      <td>Boston</td>\n",
       "      <td>5-7 years</td>\n",
       "      <td>5-7 years</td>\n",
       "      <td>Master's degree</td>\n",
       "      <td>Woman</td>\n",
       "      <td>White</td>\n",
       "    </tr>\n",
       "    <tr>\n",
       "      <th>1</th>\n",
       "      <td>25-34</td>\n",
       "      <td>Computing or Tech</td>\n",
       "      <td>Change &amp; Internal Communications Manager</td>\n",
       "      <td>54,600</td>\n",
       "      <td>4000.0</td>\n",
       "      <td>GBP</td>\n",
       "      <td>UK</td>\n",
       "      <td>NaN</td>\n",
       "      <td>Cambridge</td>\n",
       "      <td>8 - 10 years</td>\n",
       "      <td>5-7 years</td>\n",
       "      <td>College degree</td>\n",
       "      <td>Non-binary</td>\n",
       "      <td>White</td>\n",
       "    </tr>\n",
       "    <tr>\n",
       "      <th>2</th>\n",
       "      <td>25-34</td>\n",
       "      <td>Accounting, Banking &amp; Finance</td>\n",
       "      <td>Marketing Specialist</td>\n",
       "      <td>34,000</td>\n",
       "      <td>0.0</td>\n",
       "      <td>USD</td>\n",
       "      <td>US</td>\n",
       "      <td>Tennessee</td>\n",
       "      <td>Chattanooga</td>\n",
       "      <td>2 - 4 years</td>\n",
       "      <td>2 - 4 years</td>\n",
       "      <td>College degree</td>\n",
       "      <td>Woman</td>\n",
       "      <td>White</td>\n",
       "    </tr>\n",
       "    <tr>\n",
       "      <th>3</th>\n",
       "      <td>25-34</td>\n",
       "      <td>Nonprofits</td>\n",
       "      <td>Program Manager</td>\n",
       "      <td>62,000</td>\n",
       "      <td>3000.0</td>\n",
       "      <td>USD</td>\n",
       "      <td>US</td>\n",
       "      <td>Wisconsin</td>\n",
       "      <td>Milwaukee</td>\n",
       "      <td>8 - 10 years</td>\n",
       "      <td>5-7 years</td>\n",
       "      <td>College degree</td>\n",
       "      <td>Woman</td>\n",
       "      <td>White</td>\n",
       "    </tr>\n",
       "    <tr>\n",
       "      <th>4</th>\n",
       "      <td>25-34</td>\n",
       "      <td>Accounting, Banking &amp; Finance</td>\n",
       "      <td>Accounting Manager</td>\n",
       "      <td>60,000</td>\n",
       "      <td>7000.0</td>\n",
       "      <td>USD</td>\n",
       "      <td>US</td>\n",
       "      <td>South Carolina</td>\n",
       "      <td>Greenville</td>\n",
       "      <td>8 - 10 years</td>\n",
       "      <td>5-7 years</td>\n",
       "      <td>College degree</td>\n",
       "      <td>Woman</td>\n",
       "      <td>White</td>\n",
       "    </tr>\n",
       "    <tr>\n",
       "      <th>...</th>\n",
       "      <td>...</td>\n",
       "      <td>...</td>\n",
       "      <td>...</td>\n",
       "      <td>...</td>\n",
       "      <td>...</td>\n",
       "      <td>...</td>\n",
       "      <td>...</td>\n",
       "      <td>...</td>\n",
       "      <td>...</td>\n",
       "      <td>...</td>\n",
       "      <td>...</td>\n",
       "      <td>...</td>\n",
       "      <td>...</td>\n",
       "      <td>...</td>\n",
       "    </tr>\n",
       "    <tr>\n",
       "      <th>27732</th>\n",
       "      <td>25-34</td>\n",
       "      <td>Marketing, Advertising &amp; PR</td>\n",
       "      <td>Marketing Automation Analyst</td>\n",
       "      <td>6500</td>\n",
       "      <td>0.0</td>\n",
       "      <td>EUR</td>\n",
       "      <td>Bosnia and Herzegovina</td>\n",
       "      <td>NaN</td>\n",
       "      <td>Banja Luka</td>\n",
       "      <td>5-7 years</td>\n",
       "      <td>1 year or less</td>\n",
       "      <td>College degree</td>\n",
       "      <td>Woman</td>\n",
       "      <td>NaN</td>\n",
       "    </tr>\n",
       "    <tr>\n",
       "      <th>27733</th>\n",
       "      <td>65 or over</td>\n",
       "      <td>Health care</td>\n",
       "      <td>Compliance officer</td>\n",
       "      <td>63000</td>\n",
       "      <td>0.0</td>\n",
       "      <td>USD</td>\n",
       "      <td>US</td>\n",
       "      <td>Georgia</td>\n",
       "      <td>Columbus</td>\n",
       "      <td>31 - 40 years</td>\n",
       "      <td>5-7 years</td>\n",
       "      <td>Master's degree</td>\n",
       "      <td>Man</td>\n",
       "      <td>White</td>\n",
       "    </tr>\n",
       "    <tr>\n",
       "      <th>27734</th>\n",
       "      <td>35-44</td>\n",
       "      <td>Accounting, Banking &amp; Finance</td>\n",
       "      <td>Certified Scrum Master</td>\n",
       "      <td>75000</td>\n",
       "      <td>0.0</td>\n",
       "      <td>USD</td>\n",
       "      <td>US</td>\n",
       "      <td>Kentucky</td>\n",
       "      <td>Vine Grove</td>\n",
       "      <td>11 - 20 years</td>\n",
       "      <td>1 year or less</td>\n",
       "      <td>College degree</td>\n",
       "      <td>Woman</td>\n",
       "      <td>White</td>\n",
       "    </tr>\n",
       "    <tr>\n",
       "      <th>27735</th>\n",
       "      <td>18-24</td>\n",
       "      <td>Computing or Tech</td>\n",
       "      <td>Consultant</td>\n",
       "      <td>87000</td>\n",
       "      <td>0.0</td>\n",
       "      <td>USD</td>\n",
       "      <td>US</td>\n",
       "      <td>Illinois</td>\n",
       "      <td>Atlanta</td>\n",
       "      <td>1 year or less</td>\n",
       "      <td>1 year or less</td>\n",
       "      <td>Master's degree</td>\n",
       "      <td>Man</td>\n",
       "      <td>Asian or Asian American</td>\n",
       "    </tr>\n",
       "    <tr>\n",
       "      <th>27736</th>\n",
       "      <td>35-44</td>\n",
       "      <td>Health care</td>\n",
       "      <td>Senior Analyst, Pricing Advocate</td>\n",
       "      <td>47000</td>\n",
       "      <td>0.0</td>\n",
       "      <td>USD</td>\n",
       "      <td>US</td>\n",
       "      <td>Kentucky</td>\n",
       "      <td>Elizabethtown</td>\n",
       "      <td>11 - 20 years</td>\n",
       "      <td>5-7 years</td>\n",
       "      <td>College degree</td>\n",
       "      <td>Woman</td>\n",
       "      <td>White</td>\n",
       "    </tr>\n",
       "  </tbody>\n",
       "</table>\n",
       "<p>27737 rows × 14 columns</p>\n",
       "</div>"
      ],
      "text/plain": [
       "      How old are you?                       Industry  \\\n",
       "0                25-34   Education (Higher Education)   \n",
       "1                25-34              Computing or Tech   \n",
       "2                25-34  Accounting, Banking & Finance   \n",
       "3                25-34                     Nonprofits   \n",
       "4                25-34  Accounting, Banking & Finance   \n",
       "...                ...                            ...   \n",
       "27732            25-34    Marketing, Advertising & PR   \n",
       "27733       65 or over                    Health care   \n",
       "27734            35-44  Accounting, Banking & Finance   \n",
       "27735            18-24              Computing or Tech   \n",
       "27736            35-44                    Health care   \n",
       "\n",
       "                                      Job title Annual salary  \\\n",
       "0            Research and Instruction Librarian        55,000   \n",
       "1      Change & Internal Communications Manager        54,600   \n",
       "2                          Marketing Specialist        34,000   \n",
       "3                               Program Manager        62,000   \n",
       "4                            Accounting Manager        60,000   \n",
       "...                                         ...           ...   \n",
       "27732              Marketing Automation Analyst          6500   \n",
       "27733                       Compliance officer          63000   \n",
       "27734                    Certified Scrum Master         75000   \n",
       "27735                                Consultant         87000   \n",
       "27736         Senior Analyst, Pricing Advocate          47000   \n",
       "\n",
       "       Other monetary comp Currency                 Country           State  \\\n",
       "0                      0.0      USD                      US   Massachusetts   \n",
       "1                   4000.0      GBP                      UK             NaN   \n",
       "2                      0.0      USD                      US       Tennessee   \n",
       "3                   3000.0      USD                      US       Wisconsin   \n",
       "4                   7000.0      USD                      US  South Carolina   \n",
       "...                    ...      ...                     ...             ...   \n",
       "27732                  0.0      EUR  Bosnia and Herzegovina             NaN   \n",
       "27733                  0.0      USD                      US         Georgia   \n",
       "27734                  0.0      USD                      US        Kentucky   \n",
       "27735                  0.0      USD                      US        Illinois   \n",
       "27736                  0.0      USD                      US        Kentucky   \n",
       "\n",
       "                City Overall years of professional experience  \\\n",
       "0             Boston                                5-7 years   \n",
       "1          Cambridge                             8 - 10 years   \n",
       "2        Chattanooga                              2 - 4 years   \n",
       "3          Milwaukee                             8 - 10 years   \n",
       "4         Greenville                             8 - 10 years   \n",
       "...              ...                                      ...   \n",
       "27732     Banja Luka                                5-7 years   \n",
       "27733       Columbus                            31 - 40 years   \n",
       "27734     Vine Grove                            11 - 20 years   \n",
       "27735        Atlanta                           1 year or less   \n",
       "27736  Elizabethtown                            11 - 20 years   \n",
       "\n",
       "      Years of experience in field Highest level of education completed  \\\n",
       "0                        5-7 years                      Master's degree   \n",
       "1                        5-7 years                       College degree   \n",
       "2                      2 - 4 years                       College degree   \n",
       "3                        5-7 years                       College degree   \n",
       "4                        5-7 years                       College degree   \n",
       "...                            ...                                  ...   \n",
       "27732               1 year or less                       College degree   \n",
       "27733                    5-7 years                      Master's degree   \n",
       "27734               1 year or less                       College degree   \n",
       "27735               1 year or less                      Master's degree   \n",
       "27736                    5-7 years                       College degree   \n",
       "\n",
       "           Gender                     Race  \n",
       "0           Woman                    White  \n",
       "1      Non-binary                    White  \n",
       "2           Woman                    White  \n",
       "3           Woman                    White  \n",
       "4           Woman                    White  \n",
       "...           ...                      ...  \n",
       "27732       Woman                      NaN  \n",
       "27733         Man                    White  \n",
       "27734       Woman                    White  \n",
       "27735         Man  Asian or Asian American  \n",
       "27736       Woman                    White  \n",
       "\n",
       "[27737 rows x 14 columns]"
      ]
     },
     "execution_count": 244,
     "metadata": {},
     "output_type": "execute_result"
    }
   ],
   "source": [
    "dataset = dataset.drop(columns = ['Timestamp', 'Additional context on job title', 'Currency - other','Additional context on income'])\n",
    "dataset = dataset.dropna(how = 'all') #drop any instance that has all nulls\n",
    "dataset"
   ]
  },
  {
   "cell_type": "markdown",
   "id": "4b66daff",
   "metadata": {},
   "source": [
    "## Be very careful in the annual salary, other monetary comp since some currencies like yen are in the millions while usd maybe in the 10s of thousands"
   ]
  },
  {
   "cell_type": "markdown",
   "id": "7d78105b",
   "metadata": {},
   "source": [
    "## Convert the data of the years to average \n",
    "## Clean The Values of 'How old are you?' "
   ]
  },
  {
   "cell_type": "code",
   "execution_count": 245,
   "id": "b1b0044f",
   "metadata": {
    "ExecuteTime": {
     "end_time": "2022-04-02T19:57:25.955702Z",
     "start_time": "2022-04-02T19:57:25.945657Z"
    },
    "scrolled": false
   },
   "outputs": [
    {
     "name": "stdout",
     "output_type": "stream",
     "text": [
      "{'45-54', '18-24', 'under 18', '65 or over', '55-64', '35-44', '25-34'}\n"
     ]
    }
   ],
   "source": [
    "print(set(dataset['How old are you?']))\n"
   ]
  },
  {
   "cell_type": "code",
   "execution_count": 246,
   "id": "3c88f822",
   "metadata": {
    "ExecuteTime": {
     "end_time": "2022-04-02T19:57:27.782239Z",
     "start_time": "2022-04-02T19:57:27.399674Z"
    }
   },
   "outputs": [
    {
     "data": {
      "text/plain": [
       "['45-54', '18-24', '55-64', '35-44', '25-34']"
      ]
     },
     "execution_count": 246,
     "metadata": {},
     "output_type": "execute_result"
    }
   ],
   "source": [
    "list_of_rangeing_value=[x for x in list(set(dataset['How old are you?'])) if \"-\" in x ]\n",
    "list_of_rangeing_value"
   ]
  },
  {
   "cell_type": "code",
   "execution_count": 247,
   "id": "7705501d",
   "metadata": {
    "ExecuteTime": {
     "end_time": "2022-04-02T19:57:29.345149Z",
     "start_time": "2022-04-02T19:57:29.328147Z"
    }
   },
   "outputs": [
    {
     "data": {
      "text/plain": [
       "[['45', '54'], ['18', '24'], ['55', '64'], ['35', '44'], ['25', '34']]"
      ]
     },
     "execution_count": 247,
     "metadata": {},
     "output_type": "execute_result"
    }
   ],
   "source": [
    "list_of_value=[x.split(\"-\") for x in list_of_rangeing_value]\n",
    "list_of_value"
   ]
  },
  {
   "cell_type": "code",
   "execution_count": 248,
   "id": "825dd43b",
   "metadata": {
    "ExecuteTime": {
     "end_time": "2022-04-02T19:57:30.856576Z",
     "start_time": "2022-04-02T19:57:30.838624Z"
    }
   },
   "outputs": [
    {
     "data": {
      "text/plain": [
       "[49.0, 21.0, 59.0, 39.0, 29.0]"
      ]
     },
     "execution_count": 248,
     "metadata": {},
     "output_type": "execute_result"
    }
   ],
   "source": [
    "list_of_value=[(float(x[0])+float(x[1]))//2 for x in list_of_value]\n",
    "list_of_value"
   ]
  },
  {
   "cell_type": "markdown",
   "id": "2d904df8",
   "metadata": {},
   "source": [
    "## Replace new values "
   ]
  },
  {
   "cell_type": "code",
   "execution_count": 257,
   "id": "bd8671d0",
   "metadata": {
    "ExecuteTime": {
     "end_time": "2022-04-02T20:00:59.546222Z",
     "start_time": "2022-04-02T20:00:59.443498Z"
    },
    "scrolled": true
   },
   "outputs": [
    {
     "data": {
      "text/plain": [
       "0        29.0\n",
       "1        29.0\n",
       "2        29.0\n",
       "3        29.0\n",
       "4        29.0\n",
       "         ... \n",
       "27732    29.0\n",
       "27733      65\n",
       "27734    39.0\n",
       "27735    21.0\n",
       "27736    39.0\n",
       "Name: How old are you?, Length: 27737, dtype: object"
      ]
     },
     "execution_count": 257,
     "metadata": {},
     "output_type": "execute_result"
    }
   ],
   "source": [
    "dataset[\"How old are you?\"].loc[dataset[\"How old are you?\"]==\"65 or over\"]=65\n",
    "dataset[\"How old are you?\"].loc[dataset[\"How old are you?\"]==\"'under 18'\"]=18\n",
    "for value_before_get_avr,avr in zip(list_of_rangeing_value,list_of_value):\n",
    "    dataset[\"How old are you?\"].loc[dataset[\"How old are you?\"]==value_before_get_avr]=avr\n",
    "\n",
    "dataset[\"How old are you?\"]"
   ]
  },
  {
   "cell_type": "markdown",
   "id": "3be2f1de",
   "metadata": {},
   "source": [
    "## Handle the values in \"Overall years of professional experience\" coloum"
   ]
  },
  {
   "cell_type": "code",
   "execution_count": 250,
   "id": "15975c25",
   "metadata": {
    "ExecuteTime": {
     "end_time": "2022-04-02T19:57:37.622274Z",
     "start_time": "2022-04-02T19:57:37.613298Z"
    }
   },
   "outputs": [
    {
     "data": {
      "text/plain": [
       "{'1 year or less',\n",
       " '11 - 20 years',\n",
       " '2 - 4 years',\n",
       " '21 - 30 years',\n",
       " '31 - 40 years',\n",
       " '41 years or more',\n",
       " '5-7 years',\n",
       " '8 - 10 years'}"
      ]
     },
     "execution_count": 250,
     "metadata": {},
     "output_type": "execute_result"
    }
   ],
   "source": [
    "set(dataset[\"Overall years of professional experience\"])"
   ]
  },
  {
   "cell_type": "code",
   "execution_count": 251,
   "id": "3c8883e2",
   "metadata": {
    "ExecuteTime": {
     "end_time": "2022-04-02T19:57:43.366806Z",
     "start_time": "2022-04-02T19:57:43.355801Z"
    }
   },
   "outputs": [
    {
     "data": {
      "text/plain": [
       "['11 - 20 years',\n",
       " '8 - 10 years',\n",
       " '21 - 30 years',\n",
       " '2 - 4 years',\n",
       " '5-7 years',\n",
       " '31 - 40 years']"
      ]
     },
     "execution_count": 251,
     "metadata": {},
     "output_type": "execute_result"
    }
   ],
   "source": [
    "list_of_rangeing_value=[x for x in list(set(dataset['Overall years of professional experience'])) if \"-\" in x ]\n",
    "list_of_rangeing_value"
   ]
  },
  {
   "cell_type": "code",
   "execution_count": 252,
   "id": "1446ccb1",
   "metadata": {
    "ExecuteTime": {
     "end_time": "2022-04-02T19:58:09.101663Z",
     "start_time": "2022-04-02T19:58:09.080948Z"
    }
   },
   "outputs": [
    {
     "data": {
      "text/plain": [
       "[['11 ', ' 20'],\n",
       " ['8 ', ' 10'],\n",
       " ['21 ', ' 30'],\n",
       " ['2 ', ' 4'],\n",
       " ['5', '7'],\n",
       " ['31 ', ' 40']]"
      ]
     },
     "execution_count": 252,
     "metadata": {},
     "output_type": "execute_result"
    }
   ],
   "source": [
    "list_of_value=[x.replace('years','').strip().split('-') for x in list_of_rangeing_value]\n",
    "list_of_value"
   ]
  },
  {
   "cell_type": "code",
   "execution_count": 253,
   "id": "484f5812",
   "metadata": {
    "ExecuteTime": {
     "end_time": "2022-04-02T19:58:13.037042Z",
     "start_time": "2022-04-02T19:58:13.031102Z"
    },
    "scrolled": true
   },
   "outputs": [
    {
     "data": {
      "text/plain": [
       "[15.0, 9.0, 25.0, 3.0, 6.0, 35.0]"
      ]
     },
     "execution_count": 253,
     "metadata": {},
     "output_type": "execute_result"
    }
   ],
   "source": [
    "list_of_value=[(float(x[0])+float(x[1]))//2 for x in list_of_value]\n",
    "list_of_value"
   ]
  },
  {
   "cell_type": "markdown",
   "id": "6ea0d424",
   "metadata": {},
   "source": [
    "# Replace new values"
   ]
  },
  {
   "cell_type": "code",
   "execution_count": 255,
   "id": "c19a04e7",
   "metadata": {
    "ExecuteTime": {
     "end_time": "2022-04-02T20:00:44.814277Z",
     "start_time": "2022-04-02T20:00:44.722514Z"
    }
   },
   "outputs": [
    {
     "name": "stderr",
     "output_type": "stream",
     "text": [
      "C:\\Users\\DELL\\anaconda3\\lib\\site-packages\\pandas\\core\\indexing.py:1732: SettingWithCopyWarning: \n",
      "A value is trying to be set on a copy of a slice from a DataFrame\n",
      "\n",
      "See the caveats in the documentation: https://pandas.pydata.org/pandas-docs/stable/user_guide/indexing.html#returning-a-view-versus-a-copy\n",
      "  self._setitem_single_block(indexer, value, name)\n"
     ]
    },
    {
     "data": {
      "text/plain": [
       "0         6.0\n",
       "1         9.0\n",
       "2         3.0\n",
       "3         9.0\n",
       "4         9.0\n",
       "         ... \n",
       "27732     6.0\n",
       "27733    35.0\n",
       "27734    15.0\n",
       "27735       1\n",
       "27736    15.0\n",
       "Name: Overall years of professional experience, Length: 27737, dtype: object"
      ]
     },
     "execution_count": 255,
     "metadata": {},
     "output_type": "execute_result"
    }
   ],
   "source": [
    "dataset[\"Overall years of professional experience\"].loc[dataset[\"Overall years of professional experience\"]==\"1 year or less\"]=1\n",
    "dataset[\"Overall years of professional experience\"].loc[dataset[\"Overall years of professional experience\"]==\"41 years or more\"]=41\n",
    "for value_before_get_avr,avr in zip(list_of_rangeing_value,list_of_value):\n",
    "    dataset[\"Overall years of professional experience\"].loc[dataset[\"Overall years of professional experience\"]==value_before_get_avr]=avr\n",
    "dataset[\"Overall years of professional experience\"]"
   ]
  },
  {
   "cell_type": "markdown",
   "id": "ccc8e569",
   "metadata": {},
   "source": [
    "## Clean the values in \"Years of experience in field\" coloum"
   ]
  },
  {
   "cell_type": "code",
   "execution_count": 258,
   "id": "e1780946",
   "metadata": {
    "ExecuteTime": {
     "end_time": "2022-04-02T20:04:06.186615Z",
     "start_time": "2022-04-02T20:04:06.166628Z"
    }
   },
   "outputs": [
    {
     "data": {
      "text/plain": [
       "{'1 year or less',\n",
       " '11 - 20 years',\n",
       " '2 - 4 years',\n",
       " '21 - 30 years',\n",
       " '31 - 40 years',\n",
       " '41 years or more',\n",
       " '5-7 years',\n",
       " '8 - 10 years'}"
      ]
     },
     "execution_count": 258,
     "metadata": {},
     "output_type": "execute_result"
    }
   ],
   "source": [
    "set(dataset[\"Years of experience in field\"])"
   ]
  },
  {
   "cell_type": "code",
   "execution_count": 259,
   "id": "ce78d109",
   "metadata": {
    "ExecuteTime": {
     "end_time": "2022-04-02T20:04:29.089017Z",
     "start_time": "2022-04-02T20:04:29.075011Z"
    }
   },
   "outputs": [
    {
     "data": {
      "text/plain": [
       "['11 - 20 years',\n",
       " '2 - 4 years',\n",
       " '21 - 30 years',\n",
       " '8 - 10 years',\n",
       " '5-7 years',\n",
       " '31 - 40 years']"
      ]
     },
     "execution_count": 259,
     "metadata": {},
     "output_type": "execute_result"
    }
   ],
   "source": [
    "list_of_rangeing_value=[x for x in list(set(dataset['Years of experience in field'])) if \"-\" in x ]\n",
    "list_of_rangeing_value"
   ]
  },
  {
   "cell_type": "code",
   "execution_count": 260,
   "id": "895f724c",
   "metadata": {
    "ExecuteTime": {
     "end_time": "2022-04-02T20:04:42.383180Z",
     "start_time": "2022-04-02T20:04:42.370214Z"
    }
   },
   "outputs": [
    {
     "data": {
      "text/plain": [
       "[['11 ', ' 20'],\n",
       " ['2 ', ' 4'],\n",
       " ['21 ', ' 30'],\n",
       " ['8 ', ' 10'],\n",
       " ['5', '7'],\n",
       " ['31 ', ' 40']]"
      ]
     },
     "execution_count": 260,
     "metadata": {},
     "output_type": "execute_result"
    }
   ],
   "source": [
    "list_of_value=[x.replace('years','').strip().split('-') for x in list_of_rangeing_value]\n",
    "list_of_value"
   ]
  },
  {
   "cell_type": "code",
   "execution_count": 261,
   "id": "45881dee",
   "metadata": {
    "ExecuteTime": {
     "end_time": "2022-04-02T20:04:51.601581Z",
     "start_time": "2022-04-02T20:04:51.588581Z"
    },
    "scrolled": true
   },
   "outputs": [
    {
     "data": {
      "text/plain": [
       "[15.0, 3.0, 25.0, 9.0, 6.0, 35.0]"
      ]
     },
     "execution_count": 261,
     "metadata": {},
     "output_type": "execute_result"
    }
   ],
   "source": [
    "list_of_value=[(float(x[0])+float(x[1]))//2 for x in list_of_value]\n",
    "list_of_value"
   ]
  },
  {
   "cell_type": "markdown",
   "id": "6e780b01",
   "metadata": {},
   "source": [
    "## Handel the values in \"Years of experience in field\" coloum"
   ]
  },
  {
   "cell_type": "code",
   "execution_count": 262,
   "id": "f6a8c996",
   "metadata": {
    "ExecuteTime": {
     "end_time": "2022-04-02T20:05:49.262177Z",
     "start_time": "2022-04-02T20:05:49.226209Z"
    },
    "scrolled": true
   },
   "outputs": [
    {
     "name": "stderr",
     "output_type": "stream",
     "text": [
      "C:\\Users\\DELL\\anaconda3\\lib\\site-packages\\pandas\\core\\indexing.py:1732: SettingWithCopyWarning: \n",
      "A value is trying to be set on a copy of a slice from a DataFrame\n",
      "\n",
      "See the caveats in the documentation: https://pandas.pydata.org/pandas-docs/stable/user_guide/indexing.html#returning-a-view-versus-a-copy\n",
      "  self._setitem_single_block(indexer, value, name)\n"
     ]
    },
    {
     "data": {
      "text/plain": [
       "0        6.0\n",
       "1        6.0\n",
       "2        3.0\n",
       "3        6.0\n",
       "4        6.0\n",
       "        ... \n",
       "27732      1\n",
       "27733    6.0\n",
       "27734      1\n",
       "27735      1\n",
       "27736    6.0\n",
       "Name: Years of experience in field, Length: 27737, dtype: object"
      ]
     },
     "execution_count": 262,
     "metadata": {},
     "output_type": "execute_result"
    }
   ],
   "source": [
    "dataset[\"Years of experience in field\"].loc[dataset[\"Years of experience in field\"]==\"1 year or less\"]=1\n",
    "dataset[\"Years of experience in field\"].loc[dataset[\"Years of experience in field\"]==\"41 years or more\"]=41\n",
    "for value_before_get_avr,avr in zip(list_of_rangeing_value,list_of_value):\n",
    "    dataset[\"Years of experience in field\"].loc[dataset[\"Years of experience in field\"]==value_before_get_avr]=avr\n",
    "dataset[\"Years of experience in field\"]"
   ]
  },
  {
   "cell_type": "markdown",
   "id": "58d428b4",
   "metadata": {},
   "source": [
    "# Now our data is become this "
   ]
  },
  {
   "cell_type": "code",
   "execution_count": 263,
   "id": "95bf4358",
   "metadata": {
    "ExecuteTime": {
     "end_time": "2022-04-02T20:05:57.613404Z",
     "start_time": "2022-04-02T20:05:57.583130Z"
    }
   },
   "outputs": [
    {
     "data": {
      "text/html": [
       "<div>\n",
       "<style scoped>\n",
       "    .dataframe tbody tr th:only-of-type {\n",
       "        vertical-align: middle;\n",
       "    }\n",
       "\n",
       "    .dataframe tbody tr th {\n",
       "        vertical-align: top;\n",
       "    }\n",
       "\n",
       "    .dataframe thead th {\n",
       "        text-align: right;\n",
       "    }\n",
       "</style>\n",
       "<table border=\"1\" class=\"dataframe\">\n",
       "  <thead>\n",
       "    <tr style=\"text-align: right;\">\n",
       "      <th></th>\n",
       "      <th>How old are you?</th>\n",
       "      <th>Industry</th>\n",
       "      <th>Job title</th>\n",
       "      <th>Annual salary</th>\n",
       "      <th>Other monetary comp</th>\n",
       "      <th>Currency</th>\n",
       "      <th>Country</th>\n",
       "      <th>State</th>\n",
       "      <th>City</th>\n",
       "      <th>Overall years of professional experience</th>\n",
       "      <th>Years of experience in field</th>\n",
       "      <th>Highest level of education completed</th>\n",
       "      <th>Gender</th>\n",
       "      <th>Race</th>\n",
       "    </tr>\n",
       "  </thead>\n",
       "  <tbody>\n",
       "    <tr>\n",
       "      <th>0</th>\n",
       "      <td>29.0</td>\n",
       "      <td>Education (Higher Education)</td>\n",
       "      <td>Research and Instruction Librarian</td>\n",
       "      <td>55,000</td>\n",
       "      <td>0.0</td>\n",
       "      <td>USD</td>\n",
       "      <td>US</td>\n",
       "      <td>Massachusetts</td>\n",
       "      <td>Boston</td>\n",
       "      <td>6.0</td>\n",
       "      <td>6.0</td>\n",
       "      <td>Master's degree</td>\n",
       "      <td>Woman</td>\n",
       "      <td>White</td>\n",
       "    </tr>\n",
       "    <tr>\n",
       "      <th>1</th>\n",
       "      <td>29.0</td>\n",
       "      <td>Computing or Tech</td>\n",
       "      <td>Change &amp; Internal Communications Manager</td>\n",
       "      <td>54,600</td>\n",
       "      <td>4000.0</td>\n",
       "      <td>GBP</td>\n",
       "      <td>UK</td>\n",
       "      <td>NaN</td>\n",
       "      <td>Cambridge</td>\n",
       "      <td>9.0</td>\n",
       "      <td>6.0</td>\n",
       "      <td>College degree</td>\n",
       "      <td>Non-binary</td>\n",
       "      <td>White</td>\n",
       "    </tr>\n",
       "    <tr>\n",
       "      <th>2</th>\n",
       "      <td>29.0</td>\n",
       "      <td>Accounting, Banking &amp; Finance</td>\n",
       "      <td>Marketing Specialist</td>\n",
       "      <td>34,000</td>\n",
       "      <td>0.0</td>\n",
       "      <td>USD</td>\n",
       "      <td>US</td>\n",
       "      <td>Tennessee</td>\n",
       "      <td>Chattanooga</td>\n",
       "      <td>3.0</td>\n",
       "      <td>3.0</td>\n",
       "      <td>College degree</td>\n",
       "      <td>Woman</td>\n",
       "      <td>White</td>\n",
       "    </tr>\n",
       "    <tr>\n",
       "      <th>3</th>\n",
       "      <td>29.0</td>\n",
       "      <td>Nonprofits</td>\n",
       "      <td>Program Manager</td>\n",
       "      <td>62,000</td>\n",
       "      <td>3000.0</td>\n",
       "      <td>USD</td>\n",
       "      <td>US</td>\n",
       "      <td>Wisconsin</td>\n",
       "      <td>Milwaukee</td>\n",
       "      <td>9.0</td>\n",
       "      <td>6.0</td>\n",
       "      <td>College degree</td>\n",
       "      <td>Woman</td>\n",
       "      <td>White</td>\n",
       "    </tr>\n",
       "    <tr>\n",
       "      <th>4</th>\n",
       "      <td>29.0</td>\n",
       "      <td>Accounting, Banking &amp; Finance</td>\n",
       "      <td>Accounting Manager</td>\n",
       "      <td>60,000</td>\n",
       "      <td>7000.0</td>\n",
       "      <td>USD</td>\n",
       "      <td>US</td>\n",
       "      <td>South Carolina</td>\n",
       "      <td>Greenville</td>\n",
       "      <td>9.0</td>\n",
       "      <td>6.0</td>\n",
       "      <td>College degree</td>\n",
       "      <td>Woman</td>\n",
       "      <td>White</td>\n",
       "    </tr>\n",
       "    <tr>\n",
       "      <th>...</th>\n",
       "      <td>...</td>\n",
       "      <td>...</td>\n",
       "      <td>...</td>\n",
       "      <td>...</td>\n",
       "      <td>...</td>\n",
       "      <td>...</td>\n",
       "      <td>...</td>\n",
       "      <td>...</td>\n",
       "      <td>...</td>\n",
       "      <td>...</td>\n",
       "      <td>...</td>\n",
       "      <td>...</td>\n",
       "      <td>...</td>\n",
       "      <td>...</td>\n",
       "    </tr>\n",
       "    <tr>\n",
       "      <th>27732</th>\n",
       "      <td>29.0</td>\n",
       "      <td>Marketing, Advertising &amp; PR</td>\n",
       "      <td>Marketing Automation Analyst</td>\n",
       "      <td>6500</td>\n",
       "      <td>0.0</td>\n",
       "      <td>EUR</td>\n",
       "      <td>Bosnia and Herzegovina</td>\n",
       "      <td>NaN</td>\n",
       "      <td>Banja Luka</td>\n",
       "      <td>6.0</td>\n",
       "      <td>1</td>\n",
       "      <td>College degree</td>\n",
       "      <td>Woman</td>\n",
       "      <td>NaN</td>\n",
       "    </tr>\n",
       "    <tr>\n",
       "      <th>27733</th>\n",
       "      <td>65</td>\n",
       "      <td>Health care</td>\n",
       "      <td>Compliance officer</td>\n",
       "      <td>63000</td>\n",
       "      <td>0.0</td>\n",
       "      <td>USD</td>\n",
       "      <td>US</td>\n",
       "      <td>Georgia</td>\n",
       "      <td>Columbus</td>\n",
       "      <td>35.0</td>\n",
       "      <td>6.0</td>\n",
       "      <td>Master's degree</td>\n",
       "      <td>Man</td>\n",
       "      <td>White</td>\n",
       "    </tr>\n",
       "    <tr>\n",
       "      <th>27734</th>\n",
       "      <td>39.0</td>\n",
       "      <td>Accounting, Banking &amp; Finance</td>\n",
       "      <td>Certified Scrum Master</td>\n",
       "      <td>75000</td>\n",
       "      <td>0.0</td>\n",
       "      <td>USD</td>\n",
       "      <td>US</td>\n",
       "      <td>Kentucky</td>\n",
       "      <td>Vine Grove</td>\n",
       "      <td>15.0</td>\n",
       "      <td>1</td>\n",
       "      <td>College degree</td>\n",
       "      <td>Woman</td>\n",
       "      <td>White</td>\n",
       "    </tr>\n",
       "    <tr>\n",
       "      <th>27735</th>\n",
       "      <td>21.0</td>\n",
       "      <td>Computing or Tech</td>\n",
       "      <td>Consultant</td>\n",
       "      <td>87000</td>\n",
       "      <td>0.0</td>\n",
       "      <td>USD</td>\n",
       "      <td>US</td>\n",
       "      <td>Illinois</td>\n",
       "      <td>Atlanta</td>\n",
       "      <td>1</td>\n",
       "      <td>1</td>\n",
       "      <td>Master's degree</td>\n",
       "      <td>Man</td>\n",
       "      <td>Asian or Asian American</td>\n",
       "    </tr>\n",
       "    <tr>\n",
       "      <th>27736</th>\n",
       "      <td>39.0</td>\n",
       "      <td>Health care</td>\n",
       "      <td>Senior Analyst, Pricing Advocate</td>\n",
       "      <td>47000</td>\n",
       "      <td>0.0</td>\n",
       "      <td>USD</td>\n",
       "      <td>US</td>\n",
       "      <td>Kentucky</td>\n",
       "      <td>Elizabethtown</td>\n",
       "      <td>15.0</td>\n",
       "      <td>6.0</td>\n",
       "      <td>College degree</td>\n",
       "      <td>Woman</td>\n",
       "      <td>White</td>\n",
       "    </tr>\n",
       "  </tbody>\n",
       "</table>\n",
       "<p>27737 rows × 14 columns</p>\n",
       "</div>"
      ],
      "text/plain": [
       "      How old are you?                       Industry  \\\n",
       "0                 29.0   Education (Higher Education)   \n",
       "1                 29.0              Computing or Tech   \n",
       "2                 29.0  Accounting, Banking & Finance   \n",
       "3                 29.0                     Nonprofits   \n",
       "4                 29.0  Accounting, Banking & Finance   \n",
       "...                ...                            ...   \n",
       "27732             29.0    Marketing, Advertising & PR   \n",
       "27733               65                    Health care   \n",
       "27734             39.0  Accounting, Banking & Finance   \n",
       "27735             21.0              Computing or Tech   \n",
       "27736             39.0                    Health care   \n",
       "\n",
       "                                      Job title Annual salary  \\\n",
       "0            Research and Instruction Librarian        55,000   \n",
       "1      Change & Internal Communications Manager        54,600   \n",
       "2                          Marketing Specialist        34,000   \n",
       "3                               Program Manager        62,000   \n",
       "4                            Accounting Manager        60,000   \n",
       "...                                         ...           ...   \n",
       "27732              Marketing Automation Analyst          6500   \n",
       "27733                       Compliance officer          63000   \n",
       "27734                    Certified Scrum Master         75000   \n",
       "27735                                Consultant         87000   \n",
       "27736         Senior Analyst, Pricing Advocate          47000   \n",
       "\n",
       "       Other monetary comp Currency                 Country           State  \\\n",
       "0                      0.0      USD                      US   Massachusetts   \n",
       "1                   4000.0      GBP                      UK             NaN   \n",
       "2                      0.0      USD                      US       Tennessee   \n",
       "3                   3000.0      USD                      US       Wisconsin   \n",
       "4                   7000.0      USD                      US  South Carolina   \n",
       "...                    ...      ...                     ...             ...   \n",
       "27732                  0.0      EUR  Bosnia and Herzegovina             NaN   \n",
       "27733                  0.0      USD                      US         Georgia   \n",
       "27734                  0.0      USD                      US        Kentucky   \n",
       "27735                  0.0      USD                      US        Illinois   \n",
       "27736                  0.0      USD                      US        Kentucky   \n",
       "\n",
       "                City Overall years of professional experience  \\\n",
       "0             Boston                                      6.0   \n",
       "1          Cambridge                                      9.0   \n",
       "2        Chattanooga                                      3.0   \n",
       "3          Milwaukee                                      9.0   \n",
       "4         Greenville                                      9.0   \n",
       "...              ...                                      ...   \n",
       "27732     Banja Luka                                      6.0   \n",
       "27733       Columbus                                     35.0   \n",
       "27734     Vine Grove                                     15.0   \n",
       "27735        Atlanta                                        1   \n",
       "27736  Elizabethtown                                     15.0   \n",
       "\n",
       "      Years of experience in field Highest level of education completed  \\\n",
       "0                              6.0                      Master's degree   \n",
       "1                              6.0                       College degree   \n",
       "2                              3.0                       College degree   \n",
       "3                              6.0                       College degree   \n",
       "4                              6.0                       College degree   \n",
       "...                            ...                                  ...   \n",
       "27732                            1                       College degree   \n",
       "27733                          6.0                      Master's degree   \n",
       "27734                            1                       College degree   \n",
       "27735                            1                      Master's degree   \n",
       "27736                          6.0                       College degree   \n",
       "\n",
       "           Gender                     Race  \n",
       "0           Woman                    White  \n",
       "1      Non-binary                    White  \n",
       "2           Woman                    White  \n",
       "3           Woman                    White  \n",
       "4           Woman                    White  \n",
       "...           ...                      ...  \n",
       "27732       Woman                      NaN  \n",
       "27733         Man                    White  \n",
       "27734       Woman                    White  \n",
       "27735         Man  Asian or Asian American  \n",
       "27736       Woman                    White  \n",
       "\n",
       "[27737 rows x 14 columns]"
      ]
     },
     "execution_count": 263,
     "metadata": {},
     "output_type": "execute_result"
    }
   ],
   "source": [
    "dataset"
   ]
  },
  {
   "cell_type": "code",
   "execution_count": null,
   "id": "8ee2c44f",
   "metadata": {},
   "outputs": [],
   "source": []
  }
 ],
 "metadata": {
  "kernelspec": {
   "display_name": "Python 3 (ipykernel)",
   "language": "python",
   "name": "python3"
  },
  "language_info": {
   "codemirror_mode": {
    "name": "ipython",
    "version": 3
   },
   "file_extension": ".py",
   "mimetype": "text/x-python",
   "name": "python",
   "nbconvert_exporter": "python",
   "pygments_lexer": "ipython3",
   "version": "3.9.7"
  }
 },
 "nbformat": 4,
 "nbformat_minor": 5
}
